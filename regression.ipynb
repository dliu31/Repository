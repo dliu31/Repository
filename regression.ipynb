{
 "cells": [
  {
   "cell_type": "code",
   "execution_count": 68,
   "metadata": {},
   "outputs": [],
   "source": [
    "import pandas as pd\n",
    "import matplotlib.pyplot as plt\n",
    "\n",
    "data = pd.read_csv(\"diabetes.csv\")"
   ]
  },
  {
   "cell_type": "markdown",
   "metadata": {},
   "source": [
    "Logistic regression is used because the outcome of the diabetes data has only two outcomes, 0 if one does not have diabetes, and 1 if one does have diabetes."
   ]
  },
  {
   "cell_type": "code",
   "execution_count": 69,
   "metadata": {},
   "outputs": [
    {
     "name": "stdout",
     "output_type": "stream",
     "text": [
      "                 Generalized Linear Model Regression Results                  \n",
      "==============================================================================\n",
      "Dep. Variable:                Outcome   No. Observations:                  768\n",
      "Model:                            GLM   Df Residuals:                      760\n",
      "Model Family:                Binomial   Df Model:                            7\n",
      "Link Function:                  Logit   Scale:                          1.0000\n",
      "Method:                          IRLS   Log-Likelihood:                -467.33\n",
      "Date:                Fri, 11 Oct 2024   Deviance:                       934.65\n",
      "Time:                        12:23:16   Pearson chi2:                     793.\n",
      "No. Iterations:                     4   Pseudo R-squ. (CS):            0.07374\n",
      "Covariance Type:            nonrobust                                         \n",
      "============================================================================================\n",
      "                               coef    std err          z      P>|z|      [0.025      0.975]\n",
      "--------------------------------------------------------------------------------------------\n",
      "Pregnancies                  0.1284      0.029      4.484      0.000       0.072       0.185\n",
      "Glucose                      0.0129      0.003      4.757      0.000       0.008       0.018\n",
      "BloodPressure               -0.0303      0.005     -6.481      0.000      -0.039      -0.021\n",
      "Insulin                      0.0007      0.001      0.942      0.346      -0.001       0.002\n",
      "BMI                         -0.0048      0.011     -0.449      0.653      -0.026       0.016\n",
      "DiabetesPedigreeFunction     0.3203      0.240      1.335      0.182      -0.150       0.790\n",
      "Age                         -0.0156      0.008     -1.852      0.064      -0.032       0.001\n",
      "SkinThickness                0.0002      0.006      0.032      0.974      -0.012       0.012\n",
      "============================================================================================\n"
     ]
    }
   ],
   "source": [
    "import statsmodels.api as sm\n",
    "from sklearn.model_selection import train_test_split\n",
    "\n",
    "selected_features = [\"Pregnancies\",\"Glucose\",\"BloodPressure\",\"Insulin\",\"BMI\",\"DiabetesPedigreeFunction\",\"Age\",\"SkinThickness\"]\n",
    "\n",
    "data_x = data[selected_features]\n",
    "data_y = data[[\"Outcome\"]]\n",
    "train_x, test_x, train_y, test_y = train_test_split(data_x, data_y, test_size=0.2, random_state=0)\n",
    "\n",
    "\n",
    "model = sm.GLM(data_y, data_x, family=sm.families.Binomial()).fit()\n",
    "print(model.summary())\n"
   ]
  },
  {
   "cell_type": "markdown",
   "metadata": {},
   "source": [
    "The p-value for pregnancies, glucose, and blood pressure are all very low which indicate that they are useful predictors. Age might still be a useful predictor because its p-value is low, but a little too high. The other variables don't seem useful because all their p-values are very high."
   ]
  },
  {
   "cell_type": "code",
   "execution_count": 71,
   "metadata": {},
   "outputs": [
    {
     "name": "stdout",
     "output_type": "stream",
     "text": [
      "                 Generalized Linear Model Regression Results                  \n",
      "==============================================================================\n",
      "Dep. Variable:                Outcome   No. Observations:                  614\n",
      "Model:                            GLM   Df Residuals:                      611\n",
      "Model Family:                Binomial   Df Model:                            2\n",
      "Link Function:                  Logit   Scale:                          1.0000\n",
      "Method:                          IRLS   Log-Likelihood:                -381.59\n",
      "Date:                Fri, 11 Oct 2024   Deviance:                       763.18\n",
      "Time:                        12:23:40   Pearson chi2:                     629.\n",
      "No. Iterations:                     4   Pseudo R-squ. (CS):            0.06181\n",
      "Covariance Type:            nonrobust                                         \n",
      "=================================================================================\n",
      "                    coef    std err          z      P>|z|      [0.025      0.975]\n",
      "---------------------------------------------------------------------------------\n",
      "Pregnancies       0.0768      0.026      2.984      0.003       0.026       0.127\n",
      "Glucose           0.0123      0.002      5.284      0.000       0.008       0.017\n",
      "BloodPressure    -0.0320      0.004     -7.564      0.000      -0.040      -0.024\n",
      "=================================================================================\n",
      "     index  Predictions  Outcome\n",
      "0      362     0.141480        0\n",
      "1      672     0.143599        0\n",
      "2      352     0.162239        0\n",
      "3      640     0.183075        0\n",
      "4      187     0.184993        1\n",
      "..     ...          ...      ...\n",
      "149    266     0.845149        1\n",
      "150     49     0.861588        0\n",
      "151    261     0.876989        1\n",
      "152    222     0.880871        0\n",
      "153    706     0.898602        1\n",
      "\n",
      "[154 rows x 3 columns]\n"
     ]
    },
    {
     "data": {
      "text/plain": [
       "<matplotlib.collections.PathCollection at 0x283168110>"
      ]
     },
     "execution_count": 71,
     "metadata": {},
     "output_type": "execute_result"
    },
    {
     "data": {
      "image/png": "[encoded data removed]",
      "text/plain": [
       "<Figure size 640x480 with 1 Axes>"
      ]
     },
     "metadata": {},
     "output_type": "display_data"
    }
   ],
   "source": [
    "# Creating a model using the four variables with low p-values and charting the predictions with the actual values\n",
    "selected_features = [\"Pregnancies\", \"Glucose\", \"BloodPressure\"]\n",
    "\n",
    "train_x = train_x[selected_features]\n",
    "test_x = test_x[selected_features]\n",
    "\n",
    "model = sm.GLM(train_y, train_x, family=sm.families.Binomial()).fit()\n",
    "predictions = pd.DataFrame(model.predict(test_x))\n",
    "predictions.columns = [\"Predictions\"]\n",
    "compare = pd.concat([predictions, test_y], axis=1)\n",
    "compare = compare.sort_values(by=\"Predictions\").reset_index()\n",
    "\n",
    "plt.scatter(compare.index, compare[\"Predictions\"], c=compare[\"Outcome\"])\n"
   ]
  },
  {
   "cell_type": "code",
   "execution_count": null,
   "metadata": {},
   "outputs": [],
   "source": []
  },
  {
   "cell_type": "markdown",
   "metadata": {},
   "source": []
  }
 ],
 "metadata": {
  "kernelspec": {
   "display_name": "Python 3.11.7 64-bit",
   "language": "python",
   "name": "python3"
  },
  "language_info": {
   "codemirror_mode": {
    "name": "ipython",
    "version": 3
   },
   "file_extension": ".py",
   "mimetype": "text/x-python",
   "name": "python",
   "nbconvert_exporter": "python",
   "pygments_lexer": "ipython3",
   "version": "3.11.7"
  },
  "orig_nbformat": 4,
  "vscode": {
   "interpreter": {
    "hash": "b0fa6594d8f4cbf19f97940f81e996739fb7646882a419484c72d19e05852a7e"
   }
  }
 },
 "nbformat": 4,
 "nbformat_minor": 2
}
